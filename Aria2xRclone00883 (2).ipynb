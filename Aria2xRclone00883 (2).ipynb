{
  "nbformat": 4,
  "nbformat_minor": 0,
  "metadata": {
    "colab": {
      "name": "Aria2xRclone00883.ipynb",
      "provenance": [],
      "collapsed_sections": []
    },
    "kernelspec": {
      "name": "python3",
      "display_name": "Python 3"
    },
    "language_info": {
      "name": "python"
    }
  },
  "cells": [
    {
      "cell_type": "code",
      "metadata": {
        "id": "tXvjNX7kKqan"
      },
      "source": [
        " \n",
        "CLOUDNAME ='2sundaran2'\n",
        "url1= 'xxxxxx'\n",
        "url2= 'xxxxxx'\n",
        "url3= 'xxxxxx'\n",
        "url4= 'xxxxxx'\n",
        "url5= 'xxxxxx'\n",
        "! rclone version\n",
        "#%mkdir rclone\n",
        "! wget -nc 'https://test1.dev-anaz.workers.dev/0:/RAW/rclone.conf' -O '/.config/rclone/rclone.conf'\n",
        "\n",
        "%cd /home\n",
        "%rm *\n",
        "! aria2c -x10 '{url1}'\n",
        "! rclone copy /home $CLOUDNAME:\n",
        "print(\"url1 finished\")\n",
        "%rm *\n",
        "! aria2c -x10 '{url2}'\n",
        "! rclone copy /home $CLOUDNAME:\n",
        "print(\"url2 finished\")\n",
        "%rm *\n",
        "! aria2c -x10 '{url3}'\n",
        "! rclone copy /home $CLOUDNAME:\n",
        "print(\"url3 finished\")\n",
        "%rm *\n",
        "! aria2c -x10 '{url4}'\n",
        "! rclone copy /home $CLOUDNAME:\n",
        "print(\"url4 finished\")\n",
        "%rm *\n",
        "! aria2c -x10 '{url5}'\n",
        "! rclone copy /home $CLOUDNAME:\n",
        "print(\"url5 finished\")"
      ],
      "execution_count": null,
      "outputs": []
    },
    {
      "cell_type": "markdown",
      "metadata": {
        "id": "LIS_sAQlLV67"
      },
      "source": [
        ""
      ]
    }
  ]
}