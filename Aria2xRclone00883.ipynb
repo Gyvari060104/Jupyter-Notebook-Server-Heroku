{
 "cells": [
  {
   "cell_type": "code",
   "execution_count": 2,
   "metadata": {
    "id": "tXvjNX7kKqan"
   },
   "outputs": [
    {
     "name": "stdout",
     "output_type": "stream",
     "text": [
      "2021/04/22 10:55:41 NOTICE: Config file \"/.config/rclone/rclone.conf\" not found - using defaults\n",
      "rclone v1.55.0\n",
      "- os/type: linux\n",
      "- os/arch: amd64\n",
      "- go/version: go1.16.2\n",
      "- go/linking: static\n",
      "- go/tags: cmount\n",
      "--2021-04-22 10:55:41--  https://test1.dev-anaz.workers.dev/0:/RAW/rclone.conf\n",
      "Resolving test1.dev-anaz.workers.dev (test1.dev-anaz.workers.dev)... 104.21.40.51, 172.67.176.116, 2606:4700:3032::ac43:b074, ...\n",
      "Connecting to test1.dev-anaz.workers.dev (test1.dev-anaz.workers.dev)|104.21.40.51|:443... connected.\n",
      "HTTP request sent, awaiting response... 200 OK\n",
      "Length: 3767 (3.7K) [text/plain]\n",
      "Saving to: ‘/.config/rclone/rclone.conf’\n",
      "\n",
      "/.config/rclone/rcl 100%[===================>]   3.68K  --.-KB/s    in 0s      \n",
      "\n",
      "2021-04-22 10:55:43 (54.2 MB/s) - ‘/.config/rclone/rclone.conf’ saved [3767/3767]\n",
      "\n",
      "/home\n",
      "rm: cannot remove 'rclone': Is a directory\n",
      "\n",
      "04/22 10:55:43 [\u001b[1;32mNOTICE\u001b[0m] Downloading 1 item(s)\n",
      "\n",
      "04/22 10:55:43 [\u001b[1;32mNOTICE\u001b[0m] Download complete: /home/ffmpeg_no_re_encoding_cut.ipynb\n",
      "\n",
      "Download Results:\n",
      "gid   |stat|avg speed  |path/URI\n",
      "======+====+===========+=======================================================\n",
      "6ea60c|\u001b[1;32mOK\u001b[0m  |        n/a|/home/ffmpeg_no_re_encoding_cut.ipynb\n",
      "\n",
      "Status Legend:\n",
      "(OK):download completed.\n",
      "2021/04/22 10:55:44 NOTICE: DriveFire: Duplicate directory found in destination - ignoring\n",
      "url1 finished\n",
      "rm: cannot remove 'rclone': Is a directory\n",
      "Exception caught\n",
      "Exception: [download_helper.cc:451] errorCode=1 Unrecognized URI or unsupported protocol: xxxxxx\n",
      "\n",
      "2021/04/22 10:55:45 NOTICE: DriveFire: Duplicate directory found in destination - ignoring\n",
      "url2 finished\n",
      "rm: cannot remove 'rclone': Is a directory\n",
      "\n",
      "04/22 10:55:46 [\u001b[1;32mNOTICE\u001b[0m] Downloading 1 item(s)\n",
      "\n",
      "04/22 10:55:46 [\u001b[1;32mNOTICE\u001b[0m] Download complete: /home/ffmpeg_no_re_encoding_cut.ipynb\n",
      "\n",
      "Download Results:\n",
      "gid   |stat|avg speed  |path/URI\n",
      "======+====+===========+=======================================================\n",
      "47609d|\u001b[1;32mOK\u001b[0m  |        n/a|/home/ffmpeg_no_re_encoding_cut.ipynb\n",
      "\n",
      "Status Legend:\n",
      "(OK):download completed.\n",
      "2021/04/22 10:55:47 NOTICE: DriveFire: Duplicate directory found in destination - ignoring\n",
      "url3 finished\n",
      "rm: cannot remove 'rclone': Is a directory\n",
      "Exception caught\n",
      "Exception: [download_helper.cc:451] errorCode=1 Unrecognized URI or unsupported protocol: xxxxxx\n",
      "\n",
      "2021/04/22 10:55:48 NOTICE: DriveFire: Duplicate directory found in destination - ignoring\n",
      "url4 finished\n",
      "rm: cannot remove 'rclone': Is a directory\n",
      "Exception caught\n",
      "Exception: [download_helper.cc:451] errorCode=1 Unrecognized URI or unsupported protocol: xxxxxx\n",
      "\n",
      "2021/04/22 10:55:48 NOTICE: DriveFire: Duplicate directory found in destination - ignoring\n",
      "url5 finished\n"
     ]
    }
   ],
   "source": [
    " \n",
    "CLOUDNAME ='2sundaran2'\n",
    "url1= 'https://1sundaran.anazserver.workers.dev/0:/Colab%20Notebooks/ffmpeg_no_re_encoding_cut.ipynb'\n",
    "url2= 'xxxxxx'\n",
    "url3= 'https://1sundaran.anazserver.workers.dev/0:/Colab%20Notebooks/ffmpeg_no_re_encoding_cut.ipynb'\n",
    "url4= 'xxxxxx'\n",
    "url5= 'xxxxxx'\n",
    "! rclone version\n",
    "#%mkdir rclone\n",
    "! wget -nc 'https://test1.dev-anaz.workers.dev/0:/RAW/rclone.conf' -O '/.config/rclone/rclone.conf'\n",
    "\n",
    "%cd /home\n",
    "%rm *\n",
    "! aria2c -x10 '{url1}'\n",
    "! rclone copy /home $CLOUDNAME:\n",
    "print(\"url1 finished\")\n",
    "%rm *\n",
    "! aria2c -x10 '{url2}'\n",
    "! rclone copy /home $CLOUDNAME:\n",
    "print(\"url2 finished\")\n",
    "%rm *\n",
    "! aria2c -x10 '{url3}'\n",
    "! rclone copy /home $CLOUDNAME:\n",
    "print(\"url3 finished\")\n",
    "%rm *\n",
    "! aria2c -x10 '{url4}'\n",
    "! rclone copy /home $CLOUDNAME:\n",
    "print(\"url4 finished\")\n",
    "%rm *\n",
    "! aria2c -x10 '{url5}'\n",
    "! rclone copy /home $CLOUDNAME:\n",
    "print(\"url5 finished\")"
   ]
  },
  {
   "cell_type": "markdown",
   "metadata": {
    "id": "LIS_sAQlLV67"
   },
   "source": []
  }
 ],
 "metadata": {
  "colab": {
   "collapsed_sections": [],
   "name": "Aria2xRclone00883.ipynb",
   "provenance": []
  },
  "kernelspec": {
   "display_name": "Python 3",
   "language": "python",
   "name": "python3"
  },
  "language_info": {
   "codemirror_mode": {
    "name": "ipython",
    "version": 3
   },
   "file_extension": ".py",
   "mimetype": "text/x-python",
   "name": "python",
   "nbconvert_exporter": "python",
   "pygments_lexer": "ipython3",
   "version": "3.9.2"
  }
 },
 "nbformat": 4,
 "nbformat_minor": 1
}
